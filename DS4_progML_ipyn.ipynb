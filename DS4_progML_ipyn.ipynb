{
  "nbformat": 4,
  "nbformat_minor": 0,
  "metadata": {
    "colab": {
      "provenance": [],
      "authorship_tag": "ABX9TyMTphP/qvUXyG4qlSe10Wtz",
      "include_colab_link": true
    },
    "kernelspec": {
      "name": "python3",
      "display_name": "Python 3"
    },
    "language_info": {
      "name": "python"
    }
  },
  "cells": [
    {
      "cell_type": "markdown",
      "metadata": {
        "id": "view-in-github",
        "colab_type": "text"
      },
      "source": [
        "<a href=\"https://colab.research.google.com/github/MBouchaqour/DS_Masjid2024/blob/main/DS4_progML_ipyn.ipynb\" target=\"_parent\"><img src=\"https://colab.research.google.com/assets/colab-badge.svg\" alt=\"Open In Colab\"/></a>"
      ]
    },
    {
      "cell_type": "code",
      "source": [
        "# Keep here all the libraries needed for this project\n",
        "import random\n",
        "import matplotlib.pyplot as plt\n",
        "import requests\n",
        "import pandas as pd\n",
        "import numpy as np\n",
        "import seaborn as sns"
      ],
      "metadata": {
        "id": "7sFinhHpEOnX"
      },
      "execution_count": null,
      "outputs": []
    },
    {
      "cell_type": "markdown",
      "source": [
        "**Scenario**: Our client has a pizzeria restaurant. She got reservations and made pizza based on these reservations. However, she always feels like she is producing or making more pizza than she needs to. She asked for help. Our first interaction with her was\n",
        "1- Understand what her challenges\n",
        "2- Ask her if she has any historical data or if she has any insight of sharing what might be the playing factors."
      ],
      "metadata": {
        "id": "LDoBhSJ0EqFL"
      }
    },
    {
      "cell_type": "code",
      "execution_count": null,
      "metadata": {
        "id": "3XY2ES0FmFK3"
      },
      "outputs": [],
      "source": [
        "#using some random data\n",
        "reservations = [random.randint(1, 31) for _ in range(30)]\n",
        "pizza=[random.randint(15, 50) for _ in range(30)]\n",
        "dt=list(zip(reservations,pizza))\n",
        "print(dt)"
      ]
    },
    {
      "cell_type": "code",
      "source": [
        "#plot reservation and pizza using matplotlib.\n",
        "plt.scatter(reservations, pizza)\n",
        "plt.xlabel(\"Reservations\")\n",
        "plt.ylabel(\"Pizza\")\n",
        "plt.title(\"Reservations vs. Pizza\")\n",
        "plt.show()\n"
      ],
      "metadata": {
        "id": "eyonqEljoPdw"
      },
      "execution_count": null,
      "outputs": []
    },
    {
      "cell_type": "code",
      "source": [
        "# Our client provided us with this data\n",
        "# Reading a file with txt extension directly from https://raw.githubusercontent.com/ahamez/progml/refs/heads/master/ch2/pizzas.txt\n",
        "\n",
        "url = \"https://raw.githubusercontent.com/ahamez/progml/refs/heads/master/ch2/pizzas.txt\"\n",
        "response = requests.get(url)\n",
        "\n",
        "if response.status_code == 200:\n",
        "    data = response.text\n",
        "    print(data)\n",
        "else:\n",
        "    print(\"Failed to retrieve the file.\")\n"
      ],
      "metadata": {
        "id": "1ED36AyjoPhA"
      },
      "execution_count": null,
      "outputs": []
    },
    {
      "cell_type": "code",
      "source": [
        "# create a dataframe from data variable above\n",
        "\n",
        "rows = data.strip().split('\\n')\n",
        "data_list = [row.split() for row in rows]\n",
        "df = pd.DataFrame(data_list[1:], columns=data_list[0])\n",
        "print(df)\n"
      ],
      "metadata": {
        "id": "7ioB71wY7ZQH"
      },
      "execution_count": null,
      "outputs": []
    },
    {
      "cell_type": "code",
      "source": [
        "# create a file pizza.txt from dataframe with no column index\n",
        "\n",
        "df.to_csv('pizza.txt', index=False, sep=' ')\n"
      ],
      "metadata": {
        "id": "YVmPHEue79A6"
      },
      "execution_count": null,
      "outputs": []
    },
    {
      "cell_type": "code",
      "source": [
        "#using numpy because its has advantages over list\n",
        "\n",
        "X, Y = np.loadtxt(\"/content/pizza.txt\",delimiter=\" \", skiprows=1, unpack=True)"
      ],
      "metadata": {
        "id": "MruJfQk0oPje"
      },
      "execution_count": null,
      "outputs": []
    },
    {
      "cell_type": "code",
      "source": [
        "# Let's check what we get for X and Y\n",
        "print(X)\n",
        "print(Y)"
      ],
      "metadata": {
        "id": "YZfSZm9y8cOz"
      },
      "execution_count": null,
      "outputs": []
    },
    {
      "cell_type": "code",
      "source": [
        "# In your case, it would be better to handle all the libraries needed for this project at once\n",
        "\n",
        "\n",
        "# I wanted to plot X and Y and see how data is spread\n",
        "sns.set()\n",
        "plt.axis([0, 50, 0, 50])\n",
        "plt.xticks(fontsize=10)\n",
        "plt.yticks(fontsize=10)\n",
        "plt.xlabel(\"Reservations\", fontsize=10)\n",
        "plt.ylabel(\"Pizzas\", fontsize=10)\n",
        "\n",
        "# X, Y = np.loadtxt(\"/content/pizza.txt\",delimiter=\",\", skiprows=1, unpack=True)\n",
        "\n",
        "plt.plot(X, Y, \"bo\")\n",
        "\n",
        "plt.show()"
      ],
      "metadata": {
        "id": "4KXy9I-ooPmh"
      },
      "execution_count": null,
      "outputs": []
    },
    {
      "cell_type": "markdown",
      "source": [
        "# Remember: Your Goal is to come up with the best fit line. From our class, each one of us interacted with data differently and you did witness this in class"
      ],
      "metadata": {
        "id": "kOXen7tJ4pjH"
      }
    },
    {
      "cell_type": "markdown",
      "source": [
        "# Case1: Assuming B=0 (Data has no bias)"
      ],
      "metadata": {
        "id": "ht8gusy350Gg"
      }
    },
    {
      "cell_type": "code",
      "source": [
        "def predict(X, w, b=0):   # prediction\n",
        "    return X * w + b\n",
        "\n",
        "\n",
        "def loss(X, Y, w, b=0): # calculating the total error or loss\n",
        "    return np.average((predict(X, w) - Y) ** 2)\n",
        "\n",
        "\n",
        "# lr: learning rate\n",
        "def train(X, Y, iterations, lr):\n",
        "    w = 0\n",
        "    for i in range(iterations):\n",
        "        current_loss = loss(X, Y, w)\n",
        "       # print(\"Iteration %4d => loss: %.6f\" % (i, current_loss)) # Activate this code if you want to follow the iterations\n",
        "        if loss(X, Y, w + lr) < current_loss:\n",
        "            w += lr\n",
        "        elif loss(X, Y, w - lr) < current_loss:\n",
        "            w -= lr\n",
        "        else:\n",
        "            return w\n",
        "    raise Exception(\"Could not converge\")\n",
        "\n",
        "w = train(X, Y, iterations=10_000, lr=0.001) # Trained my model in using X and Y (Remember this step is equivalent to\n",
        "# training phase in ML)\n",
        "print(\"\\nw=%.3f\" % w)\n",
        "\n",
        "# Plot the chart\n",
        "\n",
        "sns.set()\n",
        "plt.plot(X, Y, \"bo\")\n",
        "plt.xticks(fontsize=15)\n",
        "plt.yticks(fontsize=15)\n",
        "plt.xlabel(\"Reservations\", fontsize=30)\n",
        "plt.ylabel(\"Pizzas\", fontsize=30)\n",
        "x_edge, y_edge = 50, 50\n",
        "plt.axis([0, x_edge, 0, y_edge])\n",
        "plt.plot([0, x_edge],[0,y_edge], linewidth=1.0, color=\"g\")\n",
        "plt.show()"
      ],
      "metadata": {
        "id": "JkePKYKmoPp2"
      },
      "execution_count": null,
      "outputs": []
    },
    {
      "cell_type": "markdown",
      "source": [
        "# Time to return to our client and say that the best approximation weight is w =1.8, so using the model Y=1.8X may help predict values"
      ],
      "metadata": {
        "id": "LK2ozym49Pju"
      }
    },
    {
      "cell_type": "code",
      "source": [
        "# Our client wants to use some data points and test our model. Hope he will be satisfied\n",
        "# given that w = 1.844, and b =0\n",
        "#Let discover the first 5 elements of X. Same time, let's check their output using Y[:5]\n",
        "print(\"Input data: \" , X[:5], \"Output data: \", Y[:5])\n",
        "# We can also assign values to Y:\n",
        "m = 14 # assign a value to m from the list X[:5] above and check its output using Y[X==m]\n",
        "print(f\"The output of variavle {m} is: {Y[X==m].mean()}\") # Calculating the mean because some input has more than one output\n"
      ],
      "metadata": {
        "id": "75GgEToG9xgR"
      },
      "execution_count": null,
      "outputs": []
    },
    {
      "cell_type": "code",
      "source": [
        "#Our client already know that the output for 14 should be 32,\n",
        "# But he wants to test our best fit model\n",
        "y_bar=predict(8,1.844)\n",
        "print(\"Prediction using our model: \", y_bar)"
      ],
      "metadata": {
        "id": "JjerZct4_lnV"
      },
      "execution_count": null,
      "outputs": []
    },
    {
      "cell_type": "markdown",
      "source": [
        "What is your thought on the result?\n",
        "It seems that our client is not happy with our model. We need to look for better ways to enhance our model. Let's include the bias, decrease the learning rate or even increase the iterations."
      ],
      "metadata": {
        "id": "tuCAMqL_Ap_H"
      }
    },
    {
      "cell_type": "code",
      "source": [
        "def predict(X, w, b): # adding the bias (No more 0)\n",
        "    return X * w + b\n",
        "\n",
        "\n",
        "def loss(X, Y, w, b): # Adding the bias\n",
        "    return np.average((predict(X, w, b) - Y) ** 2)\n",
        "\n",
        "\n",
        "# lr: learning rate\n",
        "def train(X, Y, iterations, lr):\n",
        "    b = 0\n",
        "    w = 0\n",
        "    for i in range(iterations):\n",
        "        current_loss = loss(X, Y, w, b)\n",
        "       # print(\"Iteration %4d => loss: %.6f\" % (i, current_loss)) # Activate this code if you want to see the iteration stages\n",
        "\n",
        "        if loss(X, Y, w + lr, b) < current_loss:\n",
        "            w += lr\n",
        "        elif loss(X, Y, w - lr, b) < current_loss:\n",
        "            w -= lr\n",
        "        elif loss(X, Y, w, b + lr) < current_loss:\n",
        "            b += lr\n",
        "        elif loss(X, Y, w, b - lr) < current_loss:\n",
        "            b -= lr\n",
        "        else:\n",
        "            return w, b\n",
        "\n",
        "    raise Exception(\"Could not converge\")\n",
        "\n",
        "w, b = train(X, Y, iterations=10_000, lr=0.01) # Note: No change for iterations\n",
        "print(\"\\nw=%.3f, b=%.3f\" % (w, b))\n",
        "\n",
        "# Plot the chart\n",
        "\n",
        "sns.set()\n",
        "plt.plot(X, Y, \"bo\")\n",
        "plt.xticks(fontsize=15)\n",
        "plt.yticks(fontsize=15)\n",
        "plt.xlabel(\"Reservations\", fontsize=30)\n",
        "plt.ylabel(\"Pizzas\", fontsize=30)\n",
        "x_edge, y_edge = 50, 50\n",
        "plt.axis([0, x_edge, 0, y_edge])\n",
        "plt.plot([0, x_edge], [b, predict(x_edge, w, b)], linewidth=1.0, color=\"g\")\n",
        "plt.show()"
      ],
      "metadata": {
        "id": "hjT18cFNB_Tg"
      },
      "execution_count": null,
      "outputs": []
    },
    {
      "cell_type": "markdown",
      "source": [
        "Let's check if our client will be happy with our model this time."
      ],
      "metadata": {
        "id": "0u1SCJchCf9a"
      }
    },
    {
      "cell_type": "code",
      "source": [
        "print(\"Given input: x=%d => Output should y=%.2f\" % (21, Y[X==21].mean())) # # This info is known by our\n",
        "# using the last w, b\n",
        "print(\"Prediction: x=%d => y_bar=%.2f\" % (20, predict(20, w, b))) # this info is not known by our client"
      ],
      "metadata": {
        "id": "dt1CekfC-BvN"
      },
      "execution_count": null,
      "outputs": []
    },
    {
      "cell_type": "markdown",
      "source": [
        "#Upcoming Challenges:\n",
        "- Our client provided us with new information that comes with data.\n",
        "- There are many factors that play and impact the predictions such as temperature and the number of tourist people in town.\n",
        "## We need to think of better ways to create a model that can handle complex situations.\n"
      ],
      "metadata": {
        "id": "k2N1TuS5DeVG"
      }
    }
  ]
}