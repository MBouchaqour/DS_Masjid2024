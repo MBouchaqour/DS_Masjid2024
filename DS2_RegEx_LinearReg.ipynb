{
  "nbformat": 4,
  "nbformat_minor": 0,
  "metadata": {
    "colab": {
      "provenance": [],
      "authorship_tag": "ABX9TyOWfDQ6gnB7mOkDHcliDW/n",
      "include_colab_link": true
    },
    "kernelspec": {
      "name": "python3",
      "display_name": "Python 3"
    },
    "language_info": {
      "name": "python"
    }
  },
  "cells": [
    {
      "cell_type": "markdown",
      "metadata": {
        "id": "view-in-github",
        "colab_type": "text"
      },
      "source": [
        "<a href=\"https://colab.research.google.com/github/MBouchaqour/DS_Masjid2024/blob/main/DS2_RegEx_LinearReg.ipynb\" target=\"_parent\"><img src=\"https://colab.research.google.com/assets/colab-badge.svg\" alt=\"Open In Colab\"/></a>"
      ]
    },
    {
      "cell_type": "markdown",
      "source": [
        "# Regular Expression\n",
        "(More details for RegExp) [link text](file:///C:/Users/musta/Downloads/Python/python-regular-expressions-cheat-sheet%20(2).pdf) Fix it with Github\n",
        "- Matching Text (End/Start)\n",
        "- Using Re collections (match, findall, finditer, ...)"
      ],
      "metadata": {
        "id": "sdOAZL8J0H5d"
      }
    },
    {
      "cell_type": "code",
      "execution_count": null,
      "metadata": {
        "colab": {
          "base_uri": "https://localhost:8080/"
        },
        "id": "nPPGOb4zznRa",
        "outputId": "1b87d4ad-5ad1-4951-dd2b-90cad386c2c9"
      },
      "outputs": [
        {
          "output_type": "execute_result",
          "data": {
            "text/plain": [
              "True"
            ]
          },
          "metadata": {},
          "execution_count": 16
        }
      ],
      "source": [
        "# Problem:\n",
        "# Check for specific text patterns at the satrt or end of a text (string)\n",
        "my_text=\"Spam, always says: I am not spam.txt\"\n",
        "my_text.startswith((\"Spam\",\"spam\"))  # can take solo text or tuple ||| my_text[]\n",
        "my_text.endswith((\"spam\",\"txt\"))\n",
        "# Output:\n",
        "# True\n",
        "# True\n"
      ]
    },
    {
      "cell_type": "code",
      "source": [
        "# The built-in 'slice' function might have been overwritten.\n",
        "# Reassign it to its original functionality.\n",
        "import builtins\n",
        "slice = builtins.slice\n",
        "items=list(range(0,7))\n",
        "a=slice(2,4)\n",
        "items[a]"
      ],
      "metadata": {
        "colab": {
          "base_uri": "https://localhost:8080/"
        },
        "id": "e9r6DlvG4Qok",
        "outputId": "0eec5475-84bb-472b-8567-1b15795606df"
      },
      "execution_count": null,
      "outputs": [
        {
          "output_type": "execute_result",
          "data": {
            "text/plain": [
              "[2, 3]"
            ]
          },
          "metadata": {},
          "execution_count": 25
        }
      ]
    },
    {
      "cell_type": "code",
      "source": [
        "# check with another way\n",
        "spam=slice(0,4)\n",
        "my_text[spam].lower() == \"spam\".lower()\n"
      ],
      "metadata": {
        "colab": {
          "base_uri": "https://localhost:8080/"
        },
        "id": "UodkVoMe2CaI",
        "outputId": "acdfc18c-0c6b-49ae-b1f9-42ce06c1f663"
      },
      "execution_count": null,
      "outputs": [
        {
          "output_type": "execute_result",
          "data": {
            "text/plain": [
              "True"
            ]
          },
          "metadata": {},
          "execution_count": 28
        }
      ]
    },
    {
      "cell_type": "code",
      "source": [
        "# Do the same for the endwith method\n",
        "import re # saying to Python that you will be handling regular exp\n",
        "url=\"http://www.masjid.org\"\n",
        "#Q: can you check if the site above contains either http, https, or ftp\n",
        "re.match(\"(http|https|ftp)://\",url)  # match is a lazy approach\n",
        "# Output:\n",
        "# <re.Match object; span=(0, 7), match='http://'>\n",
        "# Can we use match for previous example?\n",
        "pattern=r'^(spam|txt)'\n",
        "re.match(pattern,my_text, re.IGNORECASE)\n",
        "# Output:\n",
        "# <re.Match object; span=(0, 4), match='spam'>"
      ],
      "metadata": {
        "colab": {
          "base_uri": "https://localhost:8080/"
        },
        "id": "bXAwx65r1TpC",
        "outputId": "c1b0eb55-28c7-4d1a-aef1-fc71a5019402"
      },
      "execution_count": null,
      "outputs": [
        {
          "output_type": "execute_result",
          "data": {
            "text/plain": [
              "<re.Match object; span=(0, 4), match='Spam'>"
            ]
          },
          "metadata": {},
          "execution_count": 36
        }
      ]
    },
    {
      "cell_type": "code",
      "source": [
        "names = [\n",
        "    \"Lucas Fletcher\",\n",
        "    \"Emily Collins\",\n",
        "    \"Noah Mitchell\",\n",
        "    \"Ava Thompson\",\n",
        "    \"Ethan Hayes\",\n",
        "    \"Mia Foster\",\n",
        "    \"Mason Scott\",\n",
        "    \"Isabella Reed\",\n",
        "    \"Liam Turner\",\n",
        "    \"Harper Bennett\",\n",
        "    \"Alexander Gray\",\n",
        "    \"Olivia Price\",\n",
        "    \"Samuel Cooper\",\n",
        "    \"Emma Brooks\",\n",
        "    \"Benjamin Ross\",\n",
        "    \"Lily Stewart\",\n",
        "    \"Jacob Sullivan\",\n",
        "    \"Grace Carter\",\n",
        "    \"Henry Morgan\",\n",
        "    \"Charlotte Evans\"\n",
        "]"
      ],
      "metadata": {
        "id": "sgQvvziQ57L6"
      },
      "execution_count": null,
      "outputs": []
    },
    {
      "cell_type": "code",
      "source": [
        "#Q: check if we have any names end with c or s? check for better way?\n",
        "for name in names:\n",
        "  if name.endswith((\"c\",\"s\")): #if name.endswith(\"c\") or name.endswith(\"s\"):\n",
        "        print(name)"
      ],
      "metadata": {
        "colab": {
          "base_uri": "https://localhost:8080/"
        },
        "id": "2oZX_tZH57Ou",
        "outputId": "a830fd43-4a30-48c9-e05c-8b81d1185ac5"
      },
      "execution_count": null,
      "outputs": [
        {
          "output_type": "stream",
          "name": "stdout",
          "text": [
            "Emily Collins\n",
            "Ethan Hayes\n",
            "Emma Brooks\n",
            "Benjamin Ross\n",
            "Charlotte Evans\n"
          ]
        }
      ]
    },
    {
      "cell_type": "code",
      "source": [
        "#Tackl the same prob using match and any\n",
        "#what is any\n",
        "lst=[4,5,6,7,8,9] # looking for even number\n",
        "IsEven= any(i%2==0 for i in lst) # at least one number is even\n",
        "IsAllEven=all(i%2==0 for i in lst) # all numbers are even\n",
        "IsAllOdd=all(i%2!=0 for i in lst) # all numbers are odd\n",
        "print(IsEven)\n",
        "print(IsAllEven)\n",
        "print(IsAllOdd)\n"
      ],
      "metadata": {
        "colab": {
          "base_uri": "https://localhost:8080/"
        },
        "id": "XOGGXEnR57Ro",
        "outputId": "af2329f9-7d5b-414d-f81e-86dd8c3dc7cc"
      },
      "execution_count": null,
      "outputs": [
        {
          "output_type": "stream",
          "name": "stdout",
          "text": [
            "True\n",
            "False\n",
            "False\n"
          ]
        }
      ]
    },
    {
      "cell_type": "code",
      "source": [
        "# matching using patterns\n",
        "# if any(name.endswith((\"c\",\"s\")) for name in names):\n",
        "#   print(\"Found\")\n",
        "# matching using match\n",
        "if any(re.match(\".*[c,s]$\",str(name)) for name in names):\n",
        "  print(\"Found\")"
      ],
      "metadata": {
        "colab": {
          "base_uri": "https://localhost:8080/"
        },
        "id": "JKVzDjFK57Ud",
        "outputId": "db0dc15a-fdd2-4943-ec27-40464c496647"
      },
      "execution_count": null,
      "outputs": [
        {
          "output_type": "stream",
          "name": "stdout",
          "text": [
            "Found\n"
          ]
        }
      ]
    },
    {
      "cell_type": "code",
      "source": [
        "def checkLastCharacter(name):\n",
        "    first,last = name.split()  # Get the last character of the name\n",
        "    lst_chr = last[-1]\n",
        "    match lst_chr:\n",
        "        case 'c':\n",
        "            return f\"The name '{name}' ends w/ 'c'.\"\n",
        "        case 's':\n",
        "            return f\"The name '{name}' ends w/ 's'.\"\n",
        "for name in names:\n",
        "    result = checkLastCharacter(name)\n",
        "    if result is not None:\n",
        "        print(result)\n"
      ],
      "metadata": {
        "colab": {
          "base_uri": "https://localhost:8080/"
        },
        "id": "gaPyLbwaOkEQ",
        "outputId": "a2b3cc5e-554d-4f36-a84f-160c67058663"
      },
      "execution_count": null,
      "outputs": [
        {
          "output_type": "stream",
          "name": "stdout",
          "text": [
            "The name 'Emily Collins' ends w/ 's'.\n",
            "The name 'Ethan Hayes' ends w/ 's'.\n",
            "The name 'Emma Brooks' ends w/ 's'.\n",
            "The name 'Benjamin Ross' ends w/ 's'.\n",
            "The name 'Charlotte Evans' ends w/ 's'.\n"
          ]
        }
      ]
    },
    {
      "cell_type": "code",
      "source": [
        "# Using fnmatch, module: The fnmatch module provides two function - fnmatch() and fnmatchcase()\n",
        "#E.g.\n",
        "from fnmatch import fnmatch, fnmatchcase\n",
        "fnmatch('Student Name is', '*is')\n",
        "fnmatchcase('My name is', '?y*s')\n",
        "fnmatchcase('You spend this month $9,000.00 compared to last month', 'You spend this month $[0-9]*')\n",
        "names=['data1.py', 'data2.csv', 'data3.xlsx', 'data4.csv']\n",
        "[name for name in names if fnmatch(name, '[dD]at*.csv')] # check D and d\n",
        "# including only addresses contains \"St\"\n",
        "addresses = [\n",
        "    \"345 Main court\",\n",
        "    \"123 Elm Dr Ave\",\n",
        "    \"567 Oak St\",\n",
        "    \"789 Pine St\",\n",
        "    \"678 Maple Ave\",\n",
        "    \"901 Cedar St\"]\n",
        "\n",
        "[address for address in addresses if fnmatch(address, '*St')]\n"
      ],
      "metadata": {
        "colab": {
          "base_uri": "https://localhost:8080/"
        },
        "id": "KG5hrI4fOkHl",
        "outputId": "a102ddd4-0341-44d1-e3bc-bccbadef9ec9"
      },
      "execution_count": null,
      "outputs": [
        {
          "output_type": "execute_result",
          "data": {
            "text/plain": [
              "['567 Oak St', '789 Pine St', '901 Cedar St']"
            ]
          },
          "metadata": {},
          "execution_count": 76
        }
      ]
    },
    {
      "cell_type": "code",
      "source": [
        "# Match or search text for a specific pattern\n",
        "#Q: Exctracting date from a text\n",
        "text='Today is 10/06/2024. Tomorrow will be 10/07/2024'\n",
        "pattern=re.compile('\\d{2}/\\d{2}/\\d{4}')  # we can try it using \\d+\\/d+\\/d+\n",
        "pattern.findall(text) # find all return list"
      ],
      "metadata": {
        "colab": {
          "base_uri": "https://localhost:8080/"
        },
        "id": "q2_GPlhaOkKl",
        "outputId": "6b9ec2f5-fa5a-48e3-b092-c7960ba8031e"
      },
      "execution_count": null,
      "outputs": [
        {
          "output_type": "execute_result",
          "data": {
            "text/plain": [
              "['10/06/2024', '10/07/2024']"
            ]
          },
          "metadata": {},
          "execution_count": 78
        }
      ]
    },
    {
      "cell_type": "markdown",
      "source": [
        "# Regression Analysis\n",
        "- What's Linear Regression\n",
        "- Building regression models\n",
        "- Explaining variance and forecasting\n",
        "- Categorical variables in regression"
      ],
      "metadata": {
        "id": "3Fl4BvnYXM8v"
      }
    },
    {
      "cell_type": "code",
      "source": [
        "# What's linear reg\n"
      ],
      "metadata": {
        "id": "MoPi1clT57XI"
      },
      "execution_count": null,
      "outputs": []
    },
    {
      "cell_type": "code",
      "source": [
        "# Two common application of regression:\n",
        "# Explaining variance: How much variation in one data series is caused by another?\n",
        "# Making predictions: How much does a move in one series impact another?\n",
        "\n",
        "# Data dimension:\n",
        "#1 - Data in one Dimension\n",
        "# Oil prices"
      ],
      "metadata": {
        "id": "bMvKYJZ357Z9"
      },
      "execution_count": null,
      "outputs": []
    },
    {
      "cell_type": "code",
      "source": [],
      "metadata": {
        "id": "VAUZw99pZ-f1"
      },
      "execution_count": null,
      "outputs": []
    },
    {
      "cell_type": "code",
      "source": [],
      "metadata": {
        "id": "WLATkkviZ-jc"
      },
      "execution_count": null,
      "outputs": []
    },
    {
      "cell_type": "code",
      "source": [],
      "metadata": {
        "id": "HV4N1ZQfZ-ml"
      },
      "execution_count": null,
      "outputs": []
    },
    {
      "cell_type": "code",
      "source": [],
      "metadata": {
        "id": "HSP1yEBkZ-pl"
      },
      "execution_count": null,
      "outputs": []
    }
  ]
}